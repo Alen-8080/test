{
  "nbformat": 4,
  "nbformat_minor": 0,
  "metadata": {
    "colab": {
      "name": "python.ipynb",
      "provenance": [],
      "collapsed_sections": [],
      "authorship_tag": "ABX9TyM1s1YND6AVAZqJMt+B9fUk",
      "include_colab_link": true
    },
    "kernelspec": {
      "name": "python3",
      "display_name": "Python 3"
    },
    "language_info": {
      "name": "python"
    }
  },
  "cells": [
    {
      "cell_type": "markdown",
      "metadata": {
        "id": "view-in-github",
        "colab_type": "text"
      },
      "source": [
        "<a href=\"https://colab.research.google.com/github/Alen-8080/test/blob/main/python.ipynb\" target=\"_parent\"><img src=\"https://colab.research.google.com/assets/colab-badge.svg\" alt=\"Open In Colab\"/></a>"
      ]
    },
    {
      "cell_type": "markdown",
      "metadata": {
        "id": "4EdkE494qfqI"
      },
      "source": [
        "DATA VALIDATION"
      ]
    },
    {
      "cell_type": "code",
      "metadata": {
        "colab": {
          "base_uri": "https://localhost:8080/"
        },
        "id": "Hrtp8xFSqmfP",
        "outputId": "312c26ad-e80e-4880-8013-22500cad3a4e"
      },
      "source": [
        "\n",
        "#first grade\n",
        "data_valid = False\n",
        "\n",
        "while data_valid == False:\n",
        "  grade1 = input(\"Enter the mark of first test: \")\n",
        "  try:\n",
        "    grade1 = float (grade1)\n",
        "  except:\n",
        "    print(\"Invalid input\")\n",
        "    continue\n",
        "  if (grade1 > 10 or grade1 < 0):\n",
        "    print(\"Grade should be between 0 and 10\")\n",
        "  else:\n",
        "    data_valid = True\n",
        "\n",
        "\n",
        "#second grade\n",
        "data_valid = False\n",
        "\n",
        "while data_valid == False:\n",
        "  grade2 = input(\"Enter the mark of second test: \")\n",
        "  try:\n",
        "    grade2 = float (grade2)\n",
        "  except:\n",
        "    print(\"Invalid input\")\n",
        "    continue\n",
        "  if (grade2 > 10 or grade2 < 0):\n",
        "    print(\"Grade should be between 0 and 10\")\n",
        "  else:\n",
        "    data_valid = True\n",
        "\n",
        "\n",
        "#number of classes\n",
        "data_valid = False\n",
        "\n",
        "while data_valid == False:\n",
        "  total_class = int (input(\"Enter the number of total classes: \"))\n",
        "  try:\n",
        "    total_class = int (total_class)\n",
        "  except:\n",
        "    print(\"Invalid input\")\n",
        "    continue\n",
        "  if (total_class <= 0):\n",
        "    print(\"number of classes should be above 0\")\n",
        "  else:\n",
        "    data_valid = True\n",
        "\n",
        "\n",
        "#absence\n",
        "data_valid = False\n",
        "\n",
        "while data_valid == False:\n",
        "  absence = input(\"Enter the number of absences: \")\n",
        "  try:\n",
        "    absence = int (absence)\n",
        "  except:\n",
        "    print(\"Invalid input\")\n",
        "    continue\n",
        "  if (absence < 0):\n",
        "    print(\"Cannot be a negative number\")\n",
        "  else:\n",
        "    data_valid = True\n",
        "\n",
        "#calculations\n",
        "\n",
        "avg_grade = (grade1+grade2)/2\n",
        "attendence = (total_class - absence)/ total_class\n",
        "\n",
        "#conditions\n",
        "\n",
        "if (avg_grade >= 6 and attendence >=.8):\n",
        "  print(\"The student has been approved\")\n",
        "elif (avg_grade < 6 and attendence <.8):\n",
        "  print(\"The student has failed due to average grade lower than 6 and low attendence\")\n",
        "elif (attendence <.8):\n",
        "  print(\"The student has failed due to low attendence\")\n",
        "else:\n",
        "  print(\" The student failed due to low grade\")"
      ],
      "execution_count": null,
      "outputs": [
        {
          "output_type": "stream",
          "text": [
            "Enter the mark of first test: 9\n",
            "Enter the mark of second test: 9\n",
            "Enter the number of total classes: 10\n",
            "Enter the number of absences: 4\n",
            "The student has failed due to low attendence\n"
          ],
          "name": "stdout"
        }
      ]
    },
    {
      "cell_type": "markdown",
      "metadata": {
        "id": "jUgqghRnYTm_"
      },
      "source": [
        "Module : Time"
      ]
    },
    {
      "cell_type": "code",
      "metadata": {
        "colab": {
          "base_uri": "https://localhost:8080/"
        },
        "id": "IRxdU-6mdpkw",
        "outputId": "44ae66d4-948c-4ff7-9984-354637fcf3bb"
      },
      "source": [
        "import time as t\n",
        "print(\"would you like to continue with this payment\")\n",
        "check = input(\"Press y to continue: \")\n",
        "\n",
        "\n",
        "if (check == 'y'or check =='Y'):\n",
        "  t.sleep(2)\n",
        "  time_now = t.localtime()\n",
        "  print(\"Payment completed at \" + str(time_now.tm_hour) + \"h \" + str(time_now.tm_min) + \"m \" + str(time_now.tm_mday) + \"/\" + str(time_now.tm_mon) + \"/\" + str(time_now.tm_year))\n",
        "  time = t.time()\n",
        "  delivery_time = time + (86400*7)\n",
        "  expected_date = t.localtime(delivery_time)\n",
        "  t.sleep(2)\n",
        "  print(\"Product will be delivered before \" + str(expected_date.tm_mday) + \"/\" + str(expected_date.tm_mon) + \"/\" + str(expected_date.tm_year))\n",
        "\n",
        "elif (check != 'y'):\n",
        "  print(\" Payment cancelled\")\n",
        "\n",
        "t.sleep(1)\n",
        "print(\"Thank You\")"
      ],
      "execution_count": null,
      "outputs": [
        {
          "output_type": "stream",
          "text": [
            "would you like to continue with this payment\n",
            "Press y to continue: y\n",
            "Payment completed at 9h 14m 18/8/2021\n",
            "Product will be delivered before 25/8/2021\n",
            "Thank You\n"
          ],
          "name": "stdout"
        }
      ]
    },
    {
      "cell_type": "markdown",
      "metadata": {
        "id": "GJ8CjiMQj0ci"
      },
      "source": [
        "Type test and matplot"
      ]
    },
    {
      "cell_type": "code",
      "metadata": {
        "colab": {
          "base_uri": "https://localhost:8080/",
          "height": 482
        },
        "id": "mXnTNLyLj23I",
        "outputId": "787c279c-625a-4391-94db-742de14ae2be"
      },
      "source": [
        "import matplotlib.pyplot as plt\n",
        "import time as t\n",
        "import numpy as np\n",
        "\n",
        "\n",
        "val = ['started at', 'first', 'second', 'third', 'fourth', 'fifth']\n",
        "z = np.array([0, 1, 2, 3, 4, 5])\n",
        "mistake = 0\n",
        "i=1\n",
        "\n",
        "\n",
        "print(\"Enter the word Freddy: \")\n",
        "time = t.time()\n",
        "values = [time]\n",
        "\n",
        "\n",
        "while (i<=5):\n",
        "  word = input()\n",
        "\n",
        "  if (word == 'Freddy'):\n",
        "    y = t.time()\n",
        "    time_taken = y \n",
        "    values.append(time_taken)\n",
        "    i = i+1\n",
        "\n",
        "  else:\n",
        "    print(\"Incorrect Word \")\n",
        "    mistake = mistake +1\n",
        "\n",
        "\n",
        "print(values)\n",
        "print(\"number of mistakes = \" + str(mistake) )\n",
        "x=np.array(values)\n",
        "print(x.shape)\n",
        "print(z.shape)\n",
        "plt.xticks(z, val)\n",
        "plt.plot(z, x)\n",
        "\n"
      ],
      "execution_count": null,
      "outputs": [
        {
          "output_type": "stream",
          "text": [
            "Enter the word Freddy: \n",
            "Freddy\n",
            "Freddy\n",
            "Freddy\n",
            "Freddy\n",
            "Freddy\n",
            "[1629295771.8970263, 1629295777.6839695, 1629295783.1639636, 1629295788.1824148, 1629295791.8324273, 1629295795.4623852]\n",
            "number of mistakes = 0\n",
            "(6,)\n",
            "(6,)\n"
          ],
          "name": "stdout"
        },
        {
          "output_type": "execute_result",
          "data": {
            "text/plain": [
              "[<matplotlib.lines.Line2D at 0x7fd391282410>]"
            ]
          },
          "metadata": {
            "tags": []
          },
          "execution_count": 32
        },
        {
          "output_type": "display_data",
          "data": {
            "image/png": "[encoded data removed]",
            "text/plain": [
              "<Figure size 432x288 with 1 Axes>"
            ]
          },
          "metadata": {
            "tags": [],
            "needs_background": "light"
          }
        }
      ]
    }
  ]
}