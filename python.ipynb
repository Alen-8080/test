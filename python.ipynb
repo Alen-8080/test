{
  "nbformat": 4,
  "nbformat_minor": 0,
  "metadata": {
    "colab": {
      "name": "python.ipynb",
      "provenance": [],
      "collapsed_sections": [],
      "authorship_tag": "ABX9TyMZ/cAe0ZGT0b8rUBAont4T",
      "include_colab_link": true
    },
    "kernelspec": {
      "name": "python3",
      "display_name": "Python 3"
    },
    "language_info": {
      "name": "python"
    }
  },
  "cells": [
    {
      "cell_type": "markdown",
      "metadata": {
        "id": "view-in-github",
        "colab_type": "text"
      },
      "source": [
        "<a href=\"https://colab.research.google.com/github/Alen-8080/test/blob/main/python.ipynb\" target=\"_parent\"><img src=\"https://colab.research.google.com/assets/colab-badge.svg\" alt=\"Open In Colab\"/></a>"
      ]
    },
    {
      "cell_type": "markdown",
      "metadata": {
        "id": "4EdkE494qfqI"
      },
      "source": [
        "DATA VALIDATION"
      ]
    },
    {
      "cell_type": "code",
      "metadata": {
        "colab": {
          "base_uri": "https://localhost:8080/"
        },
        "id": "Hrtp8xFSqmfP",
        "outputId": "312c26ad-e80e-4880-8013-22500cad3a4e"
      },
      "source": [
        "\n",
        "#first grade\n",
        "data_valid = False\n",
        "\n",
        "while data_valid == False:\n",
        "  grade1 = input(\"Enter the mark of first test: \")\n",
        "  try:\n",
        "    grade1 = float (grade1)\n",
        "  except:\n",
        "    print(\"Invalid input\")\n",
        "    continue\n",
        "  if (grade1 > 10 or grade1 < 0):\n",
        "    print(\"Grade should be between 0 and 10\")\n",
        "  else:\n",
        "    data_valid = True\n",
        "\n",
        "\n",
        "#second grade\n",
        "data_valid = False\n",
        "\n",
        "while data_valid == False:\n",
        "  grade2 = input(\"Enter the mark of second test: \")\n",
        "  try:\n",
        "    grade2 = float (grade2)\n",
        "  except:\n",
        "    print(\"Invalid input\")\n",
        "    continue\n",
        "  if (grade2 > 10 or grade2 < 0):\n",
        "    print(\"Grade should be between 0 and 10\")\n",
        "  else:\n",
        "    data_valid = True\n",
        "\n",
        "\n",
        "#number of classes\n",
        "data_valid = False\n",
        "\n",
        "while data_valid == False:\n",
        "  total_class = int (input(\"Enter the number of total classes: \"))\n",
        "  try:\n",
        "    total_class = int (total_class)\n",
        "  except:\n",
        "    print(\"Invalid input\")\n",
        "    continue\n",
        "  if (total_class <= 0):\n",
        "    print(\"number of classes should be above 0\")\n",
        "  else:\n",
        "    data_valid = True\n",
        "\n",
        "\n",
        "#absence\n",
        "data_valid = False\n",
        "\n",
        "while data_valid == False:\n",
        "  absence = input(\"Enter the number of absences: \")\n",
        "  try:\n",
        "    absence = int (absence)\n",
        "  except:\n",
        "    print(\"Invalid input\")\n",
        "    continue\n",
        "  if (absence < 0):\n",
        "    print(\"Cannot be a negative number\")\n",
        "  else:\n",
        "    data_valid = True\n",
        "\n",
        "#calculations\n",
        "\n",
        "avg_grade = (grade1+grade2)/2\n",
        "attendence = (total_class - absence)/ total_class\n",
        "\n",
        "#conditions\n",
        "\n",
        "if (avg_grade >= 6 and attendence >=.8):\n",
        "  print(\"The student has been approved\")\n",
        "elif (avg_grade < 6 and attendence <.8):\n",
        "  print(\"The student has failed due to average grade lower than 6 and low attendence\")\n",
        "elif (attendence <.8):\n",
        "  print(\"The student has failed due to low attendence\")\n",
        "else:\n",
        "  print(\" The student failed due to low grade\")"
      ],
      "execution_count": null,
      "outputs": [
        {
          "output_type": "stream",
          "text": [
            "Enter the mark of first test: 9\n",
            "Enter the mark of second test: 9\n",
            "Enter the number of total classes: 10\n",
            "Enter the number of absences: 4\n",
            "The student has failed due to low attendence\n"
          ],
          "name": "stdout"
        }
      ]
    },
    {
      "cell_type": "markdown",
      "metadata": {
        "id": "jUgqghRnYTm_"
      },
      "source": [
        "Module : Time"
      ]
    },
    {
      "cell_type": "code",
      "metadata": {
        "colab": {
          "base_uri": "https://localhost:8080/"
        },
        "id": "IRxdU-6mdpkw",
        "outputId": "44ae66d4-948c-4ff7-9984-354637fcf3bb"
      },
      "source": [
        "import time as t\n",
        "print(\"would you like to continue with this payment\")\n",
        "check = input(\"Press y to continue: \")\n",
        "\n",
        "\n",
        "if (check == 'y'or check =='Y'):\n",
        "  t.sleep(2)\n",
        "  time_now = t.localtime()\n",
        "  print(\"Payment completed at \" + str(time_now.tm_hour) + \"h \" + str(time_now.tm_min) + \"m \" + str(time_now.tm_mday) + \"/\" + str(time_now.tm_mon) + \"/\" + str(time_now.tm_year))\n",
        "  time = t.time()\n",
        "  delivery_time = time + (86400*7)\n",
        "  expected_date = t.localtime(delivery_time)\n",
        "  t.sleep(2)\n",
        "  print(\"Product will be delivered before \" + str(expected_date.tm_mday) + \"/\" + str(expected_date.tm_mon) + \"/\" + str(expected_date.tm_year))\n",
        "\n",
        "elif (check != 'y'):\n",
        "  print(\" Payment cancelled\")\n",
        "\n",
        "t.sleep(1)\n",
        "print(\"Thank You\")"
      ],
      "execution_count": null,
      "outputs": [
        {
          "output_type": "stream",
          "text": [
            "would you like to continue with this payment\n",
            "Press y to continue: y\n",
            "Payment completed at 9h 14m 18/8/2021\n",
            "Product will be delivered before 25/8/2021\n",
            "Thank You\n"
          ],
          "name": "stdout"
        }
      ]
    },
    {
      "cell_type": "markdown",
      "metadata": {
        "id": "GJ8CjiMQj0ci"
      },
      "source": [
        "Type test and matplot"
      ]
    },
    {
      "cell_type": "code",
      "metadata": {
        "colab": {
          "base_uri": "https://localhost:8080/",
          "height": 449
        },
        "id": "mXnTNLyLj23I",
        "outputId": "d9708520-e156-49f2-c310-9f07af7c12f1"
      },
      "source": [
        "fimport matplotlib.pyplot as plt\n",
        "import time as t\n",
        "import numpy as np\n",
        "\n",
        "\n",
        "val = [ 'first', 'second', 'third', 'fourth', 'fifth']\n",
        "mistake = 0\n",
        "i=1\n",
        "\n",
        "\n",
        "print(\"Enter the word Freddy: \")\n",
        "values = []\n",
        "\n",
        "\n",
        "while (i<=5):\n",
        "  start = t.time()\n",
        "  word = input()\n",
        "\n",
        "  if (word.lower() == 'freddy'):\n",
        "    end = t.time()\n",
        "    time_taken = end - start\n",
        "    values.append(time_taken)\n",
        "    i = i+1\n",
        "\n",
        "  else:\n",
        "    print(\"Incorrect Word \")\n",
        "    mistake = mistake +1\n",
        "\n",
        "\n",
        "print(\"number of mistakes = \" + str(mistake))\n",
        "x=np.array(values)\n",
        "plt.title(\"Typing Test\")\n",
        "plt.plot(val, x)\n",
        "t.sleep(3)\n",
        "plt.show()\n",
        "\n"
      ],
      "execution_count": 1,
      "outputs": [
        {
          "output_type": "stream",
          "text": [
            "Enter the word Freddy: \n",
            "Freddy\n",
            "reddy\n",
            "Incorrect Word \n",
            "freddy\n",
            "freddy\n",
            "freddy\n",
            "freddy\n",
            "number of mistakes = 1\n"
          ],
          "name": "stdout"
        },
        {
          "output_type": "display_data",
          "data": {
            "image/png": "[encoded data removed]",
            "text/plain": [
              "<Figure size 432x288 with 1 Axes>"
            ]
          },
          "metadata": {
            "needs_background": "light"
          }
        }
      ]
    },
    {
      "cell_type": "markdown",
      "metadata": {
        "id": "uP0MyrgH6ycL"
      },
      "source": [
        "Quiz REquest"
      ]
    },
    {
      "cell_type": "code",
      "metadata": {
        "id": "vXpVupsq61gG"
      },
      "source": [
        ""
      ],
      "execution_count": null,
      "outputs": []
    },
    {
      "cell_type": "code",
      "metadata": {
        "id": "vxOz23hkdL_Y",
        "colab": {
          "base_uri": "https://localhost:8080/"
        },
        "outputId": "bb003a12-f7d3-477c-cba1-ebd25c420f76"
      },
      "source": [
        "import requests\n",
        "import json\n",
        "import time as t\n",
        "\n",
        "print(\"Welcome to Open Trivia Quiz\")\n",
        "t.sleep(1)\n",
        "print(\" To start the Game press any Key\")\n",
        "t.sleep(1)\n",
        "print(\"To exit the game type 'Quit' or 'Q' \")\n",
        "t.sleep(1)\n",
        "\n",
        "i=0\n",
        "x=0\n",
        "control = input()\n",
        "\n",
        "while (i==0):\n",
        "\n",
        "  if (control.lower() == 'quit' or control.lower() == 'q'): \n",
        "     i=1;\n",
        "\n",
        "  elif (control.lower() != 'quit' or control.lower() != 'q'):\n",
        "        \n",
        "    data_valid = \"False\"    \n",
        "    while data_valid == 'False':\n",
        "      r = requests.get(\"https://opentdb.com/api.php?amount=1&category=9&type=multiple\")\n",
        "      status = r.status_code\n",
        "      if (status == 200):\n",
        "        data_valid = 'True'      \n",
        "    \n",
        "    question = json.loads(r.text)\n",
        "\n",
        "    print(\"Guess the correct answer : \")\n",
        "    t.sleep(1)\n",
        "    print(\"category = \" + question['results'][0]['category'])\n",
        "    t.sleep(1)\n",
        "    print(\"question : \" + question['results'][0]['question'])\n",
        "    t.sleep(2)\n",
        "    x=0\n",
        "    \n",
        "    check = input(\"Enter the answer if you know it or press 'Y' for 4 options : \")\n",
        "    if (check.lower() == question['results'][0]['correct_answer'].lower()):\n",
        "      print(\"Answer is correct \")\n",
        "      x=1\n",
        "    elif (check.lower() == 'y'):\n",
        "      print(\"Options are :\")\n",
        "      t.sleep(1)\n",
        "      options = [question['results'][0]['correct_answer']]\n",
        "      options.append(question['results'][0]['incorrect_answers'])\n",
        "      print(options)\n",
        "    elif (check.lower() !='y'):\n",
        "      print(\"wrong answer\")\n",
        "      x=1\n",
        "    \n",
        "    while (x!=1):\n",
        "      t.sleep(1)\n",
        "      check2 = input(\"enter your answer : \")\n",
        "      if (check2.lower() == question['results'][0]['correct_answer'].lower()):\n",
        "        print(\"Correct Answer\")\n",
        "        x=1\n",
        "      elif (check2.lower !=  question['results'][0]['correct_answer'].lower()):\n",
        "        print(\"Wrong answer\")\n",
        "        t.sleep(1)\n",
        "        print(\" correct answer is \" + question['results'][0]['correct_answer'])\n",
        "        x=1\n",
        "    t.sleep(1)\n",
        "    z= input(\"To exit the game type 'Quit' or 'Q'  or press any other key for next question : \")\n",
        "    if (z.lower()=='quit'or z.lower() == 'q'):\n",
        "      i=1;\n",
        "    \n",
        "print(\"THank u\")"
      ],
      "execution_count": null,
      "outputs": [
        {
          "output_type": "stream",
          "text": [
            "Welcome to Open Trivia Quiz\n",
            " To start the Game press any Key\n",
            "To exit the game type 'Quit' or 'Q' \n",
            "y\n",
            "Guess the correct answer : \n",
            "category = General Knowledge\n",
            "question : In past times, what would a gentleman keep in his fob pocket?\n",
            "Enter the answer if you know it or press 'Y' for 4 options : y\n",
            "Options are :\n",
            "['Watch', ['Money', 'Keys', 'Notebook']]\n",
            "enter your answer : watch\n",
            "Correct Answer\n",
            "To exit the game type 'Quit' or 'Q'  or press any other key for next questionj\n",
            "Guess the correct answer : \n",
            "category = General Knowledge\n",
            "question : What is Cynophobia the fear of?\n",
            "Enter the answer if you know it or press 'Y' for 4 options : y\n",
            "Options are :\n",
            "['Dogs', ['Birds', 'Flying', 'Germs']]\n",
            "To exit the game type 'Quit' or 'Q'  or press any other key for next questiondogs\n",
            "Guess the correct answer : \n",
            "category = General Knowledge\n",
            "question : Which one of these Swedish companies was founded in 1943?\n",
            "Enter the answer if you know it or press 'Y' for 4 options : y\n",
            "Options are :\n",
            "['IKEA', ['H &amp; M', 'Lindex', 'Clas Ohlson']]\n",
            "To exit the game type 'Quit' or 'Q'  or press any other key for next questionq\n",
            "THank u\n"
          ],
          "name": "stdout"
        }
      ]
    }
  ]
}